{
 "cells": [
  {
   "cell_type": "markdown",
   "id": "d2adc5e3-acd6-4312-a4a0-3f377ddd2eab",
   "metadata": {},
   "source": [
    "---\n",
    "title: Infodemics\n",
    "math: \n",
    "    '\\abs': '\\left\\lvert #1 \\right\\rvert' \n",
    "    '\\norm': '\\left\\lvert #1 \\right\\rvert' \n",
    "    '\\Set': '\\left\\{ #1 \\right\\}'\n",
    "    '\\set': '\\operatorname{set}'    \n",
    "    '\\mc': '\\mathcal{#1}'\n",
    "    '\\M': '\\boldsymbol{#1}'\n",
    "    '\\R': '\\mathsf{#1}'\n",
    "    '\\RM': '\\boldsymbol{\\mathsf{#1}}'\n",
    "    '\\op': '\\operatorname{#1}'\n",
    "    '\\E': '\\op{E}'\n",
    "    '\\d': '\\mathrm{\\mathstrut d}'\n",
    "    '\\SFM': '\\operatorname{SFM}'\n",
    "---"
   ]
  },
  {
   "cell_type": "markdown",
   "id": "8ef51434-4f26-4103-acfd-d2a9927c3fb2",
   "metadata": {},
   "source": [
    "## Problem formulation"
   ]
  },
  {
   "cell_type": "markdown",
   "id": "be9ce441-e0e8-4cef-924b-4e8a3fee50ac",
   "metadata": {},
   "source": [
    "Consider a communication network on a discrete set $V$ of nodes, where $\\rho(S,A)$ denotes the maximum total multiple multicast rate from a set $S\\subseteq V$ of source nodes to a set $A\\subseteq V$ or sink nodes. Suppose a set of rumors with a sum rate $r\\geq 0$ is multicast from an unknown source $S\\in \\mathcal{S}$ to a given set $A\\subseteq V$, \n",
    "\n",
    "The problem is to detect inclusion-wise minimal sources\n",
    "\n",
    "$$\n",
    "\\begin{align}\n",
    "\\mathcal{S}_r(A):=\\operatorname{minimal} \\Set{S\\subseteq V\\middle| \\rho(S, A) \\geq r}.\n",
    "\\end{align}\n",
    "$$\n",
    "\n",
    "given that a rumor of rate $r> 0$ is received by $A\\subseteq V$. Instead of finding all feasible sources above, we also consider finding one feasible source or\n",
    "\n",
    "$$\n",
    "\\begin{align}\n",
    "\\kappa_r(A) &:= \\min\\Set{\\abs{S}\\middle| S\\in \\mathcal{S}(A, r)} && \\text{for $r\\geq 0$}\\\\\n",
    "\\rho_k(A) &:= \\max\\Set{r\\geq 0: S\\in \\mathcal{S}(A, r), \\abs{S}\\leq k} && \\text{for $k \\in \\mathbb{N}$.}\n",
    "\\end{align}\n",
    "$$\n",
    "\n",
    "$\\kappa_r(A)$ is the smallest size of a feasible source and $\\rho_k(A)$ is the maximum multicast rate of a source of limited size."
   ]
  },
  {
   "cell_type": "markdown",
   "id": "ee99464e-f11d-4e60-aae8-29292b025adb",
   "metadata": {},
   "source": [
    "The problem formulation is illustrated below:\n",
    "\n",
    "::::{prf:example}\n",
    "\n",
    "Consider the butterfly network on $V:=[6]$ with independent noiseless channels from node $u\\in V$ to $w\\in V$ with capacity \n",
    "\n",
    "$$\n",
    "\\begin{align}\n",
    "\\lambda_{uw} := \n",
    "\\begin{cases}\n",
    "1 & (u,w)\\in \\mc{E}:=\\Set{(1,3),(1,5),(2,3),(2,6),(3,4),(4,5),(4,6)}\\\\\n",
    "0 & \\text{otherwise.}\n",
    "\\end{cases}\n",
    "\\end{align}\n",
    "$$\n",
    "\n",
    "For $A:=\\Set{5,6}$, the multiple multicast rate from $S\\in 2^V$ to $A$ is\n",
    "\n",
    "$$\n",
    "\\begin{align}\n",
    "\\rho(S, A) &= \n",
    "\\begin{cases}\n",
    "0 & S\\subseteq \\Set{5,6}\\\\\n",
    "2 & \\Set{1,2}\\subseteq S\\\\\n",
    "1 & \\text{otherwise.}\n",
    "\\end{cases}\n",
    "\\end{align}\n",
    "$$\n",
    "\n",
    "The source $\\Set{1,2}$ achieves a rate of $2$ by network coding, while other sources in $\\Set{1,2,3,4}$ achieve a rate of $1$ by routing.  It follows that\n",
    "\n",
    "$$\n",
    "\\begin{alignat}{4}\n",
    "\\mathcal{S}_r(A)=\n",
    "\\begin{cases}\n",
    "\\Set{\\emptyset} & r=0\\\\\n",
    "\\Set{\\Set{u}|1\\leq u\\leq 4} & r\\in (0,1]\\\\\n",
    "\\Set{1,2} & r\\in (1,2]\\\\\n",
    "\\emptyset & \\text{otherwise}\n",
    "\\end{cases}\n",
    "&\\kern2em\\text{and}\\kern2em&\n",
    "\\kappa_r(A) &= \n",
    "\\begin{cases}\n",
    "0 & r=0\\\\\n",
    "1 & r\\in (0,1]\\\\\n",
    "2 & r\\in (1,2]\\\\\n",
    "2 & \\text{otherwise}\n",
    "\\end{cases}\n",
    "\\end{alignat}\n",
    "$$\n",
    "\n",
    "and $\\rho_k(A) = \\max\\Set{k,2}$. In particular, the source $\\Set{1,2}$ can be identified with no ambiguity if the total rate of the rumor exceeds $1$.\n",
    "\n",
    "::::"
   ]
  },
  {
   "cell_type": "markdown",
   "id": "78091ef9-f9df-4af7-b9d2-bd67a9759b14",
   "metadata": {},
   "source": [
    "As in the above example, the multiple multicast rate $\\rho(S,A)$ is computed from a network links model such as a weighted directed graph. To capture a general information network model beyond graphs, we consider the min-cut formula for a general polylinking network [Goemans et al. (2012)](https://doi.org/10.1007/s10107-011-0446-2):"
   ]
  },
  {
   "cell_type": "markdown",
   "id": "661c9d54-2e87-43a4-b8ef-66ad9e2a2606",
   "metadata": {},
   "source": [
    "::::{prf:definition}\n",
    "\n",
    "The multiple multicast rate \n",
    "\n",
    "$$\n",
    "\\begin{align}\n",
    "\\rho(S,A) &:= \\min_{B\\subseteq A: S\\subseteq B\\supsetneq A} \\lambda(B,V\\setminus B)\n",
    "\\end{align}\n",
    "$$ (eq:rho)\n",
    "\n",
    "where $\\lambda:V^2\\mapsto \\mathbb{R}_+$ is a polylinking function satisfying\n",
    "\n",
    "$$\n",
    "\\begin{align}\n",
    "\\lambda(\\emptyset,B) &= \\lambda(B,\\emptyset) = 0 \\text{ and } \\lambda(B',C') \\leq \\lambda(B, C) && \\forall B'\\subseteq B\\in 2^V, C\\subseteq C'\\in 2^V\\\\\n",
    "\\end{align}\n",
    "$$ (eq:normalized-monotonic)\n",
    "$$\n",
    "\\begin{align}\n",
    "\\sum_{i=1}^2 \\lambda(B_i, C_i) &\\geq \\lambda(B_1\\cap B_2, C_1\\cup C_2) + \\lambda(B_1\\cup B_2, C_1\\cap C_2) && \\forall B_1,B_2,C_1,C_2\\in 2^V\n",
    "\\end{align}\n",
    "$$ (eq:bisubmodular)\n",
    "\n",
    "[](#eq:normalized-monotonic) means $\\lambda$ is normalized and non-decreasing, and [](#eq:bisubmodular) is called bisubmodularity.\n",
    "\n",
    "::::"
   ]
  },
  {
   "cell_type": "markdown",
   "id": "d73ebc8f-c03d-4ea1-9078-f8a11b67953e",
   "metadata": {},
   "source": [
    "The above formulation is motivated by the general max-flow min-cut result for the following deterministic channel model [Chan 2013](https://doi.org/10.1109/ISIT.2013.6620334) [Chan et al. 2013](https://doi.org/10.1109/ITW.2013.6691270).\n"
   ]
  },
  {
   "cell_type": "markdown",
   "id": "95081ed6-1678-4344-a82a-3b07696e29cc",
   "metadata": {},
   "source": [
    "::::{prf:example}\n",
    "\n",
    "Let $\\R{X}_u$ and $\\R{Y}_u$ be the discrete the channel input and output of \n",
    "\n",
    "Consider a discrete memoryless deterministic channel $P_{\\R{Y}_V|\\R{X}_V}$ and an input distribution $\\R{X}_V$ satisfying\n",
    "\n",
    "\\begin{align}\n",
    "H(\\R{Y}_V|\\R{X}_V) &= 0 \\\\\n",
    "H(\\R{X}_V) &= \\sum_{i\\in V} H(\\R{X}_i)\n",
    "\\end{align}\n",
    "\n",
    "The linking function can be chosen as\n",
    "\n",
    "\\begin{align}\n",
    "\\lambda(B, C) &:= I(\\R{X}_B\\wedge \\R{Y}_C|\\R{X}_{V\\setminus B}) \\kern2em \\text{for $B,C\\subseteq V$}\\\\\n",
    "&= H(\\R{Y}_C|\\R{X}_{V\\setminus B}) = \\underbrace{H(\\R{Y}_C, \\R{X}_{V\\setminus B})}_{(a)} - \\underbrace{\\sum_{u\\in V} H(\\R{X}_u)}_{(b)}.\n",
    "\\end{align}\n",
    "\n",
    "[](#eq:bisubmodular) follows immediately from the submodularity of the entropy in (a) and modularity of sum in (b). The directed network links model is the special case when\n",
    "\n",
    "\\begin{align}\n",
    "\\lambda(B,C) &:= \\sum_{u\\in B, w\\in C} \\lambda_{uw}\n",
    "\\end{align}\n",
    "\n",
    "and $P_{\\R{Y}_V|\\R{X}_V}=\\prod_{u,w\\in V} P_{\\R{Y}_{uw}|\\R{X}_{uw}}$ with $\\R{Y}_{uw}=\\R{X}_{uw}$ and $H(\\R{X}_{uw})=\\lambda_{uw}$.\n",
    "\n",
    "::::"
   ]
  },
  {
   "cell_type": "markdown",
   "id": "dd40247d-6a1b-4f96-bcc6-c221fa1183c7",
   "metadata": {},
   "source": [
    "## Main results"
   ]
  },
  {
   "cell_type": "markdown",
   "id": "e0ae0d2c-86e9-4932-9d2d-934cb4bf7275",
   "metadata": {},
   "source": [
    "::::{prf:proposition}\n",
    "\n",
    "$\\rho(S,A)$ in [](#eq:rho) can be computed in $O(\\abs{A} \\SFM(\\abs{V\\setminus S}-1))$ where $\\SFM(n)$ is the strongly polynomial running time for submodular function minimization with a ground set of size $n$.\n",
    "\n",
    "::::"
   ]
  },
  {
   "cell_type": "markdown",
   "id": "7a76718f-8560-4e34-9944-670742b9e855",
   "metadata": {},
   "source": [
    "::::{prf:proof}\n",
    "\n",
    "[](#eq:rho) can be rewritten as\n",
    "\n",
    "\\begin{align}\n",
    "\\rho(A,S) &= \\min_{u\\in A} \\min_{C\\subseteq V\\setminus S: u\\in C} \\lambda(C, V\\setminus C)\n",
    "\\end{align}\n",
    "\n",
    "which is obtained by setting $C=V\\setminus B$ in [](#eq:rho) and translating the constraint on $B$ to the cosntraint on $C$. Since $\\lambda(V\\setminus C, C)$ is submodular in $C$ by [](#eq:bisubmodular), the inner minimization can be computed as an SFM over a lattice family $C-u\\in 2^{(V\\setminus S)-u}$ of ground set $(V\\setminus S)$. The overall minimization can be solved in $\\abs{A}$ such SFM, one for each $u\\in A$ in the outer minimization. This gives the desired complexity.\n",
    "\n",
    "::::"
   ]
  },
  {
   "cell_type": "markdown",
   "id": "f4e58d8a-cf14-4bc4-b360-a41697a6267e",
   "metadata": {},
   "source": [
    "## Problem Formulation"
   ]
  },
  {
   "cell_type": "markdown",
   "id": "9bc1ad9e-2223-44ee-853e-d844d60ddf9e",
   "metadata": {},
   "source": [
    "To capture a general notion of information flow in a network of discrete set $V$ of nodes, we consider a cyclic (poly)-linking network [](https://doi.org/10.1109/ITW.2013.6691270)[](https://doi.org/10.1109/ISIT.2013.6620334)[](https://doi.org/10.1109/ISIT.2012.6283513) characterized by a polylinking function $\\lambda:V^2\\to \\mathbb{R}^+$ [Goemans et al. (2012)](https://doi.org/10.1007/s10107-011-0446-2).\n",
    "\n",
    "::::{prf:example}\n",
    "\n",
    "A possible choice of $\\lambda$ satisfying (F1-3) in Proposition 2 of [Goemans et al. (2012)](https://doi.org/10.1007/s10107-011-0446-2) is\n",
    "\n",
    "$$\n",
    "\\begin{align}\n",
    "\\lambda(B,C) &:=I(\\R{X}_B\\wedge \\R{Z}_C|\\R{X}_{V\\setminus B}) && \\text{for $B,C\\subseteq V$},\n",
    "\\end{align}\n",
    "$$\n",
    "\n",
    "where $\\R{X}_u$ and $\\R{Z}_u$ are discrete input and output random variables of node $u\\in V$ satisfying the condition\n",
    "\n",
    "$$\n",
    "\\begin{align}\n",
    "H(\\R{Z}_V|\\R{X}_V) &= 0\\\\\n",
    "H(\\R{X}_V) &= \\sum_{u\\in V} H(\\R{X}_i)\\\\\n",
    "H(\\R{X}_u|\\R{Z}_u) &= 0 && \\forall u\\in V.\n",
    "\\end{align}\n",
    "$$\n",
    "\n",
    "\n",
    "::::\n",
    "\n"
   ]
  },
  {
   "cell_type": "markdown",
   "id": "819fbdf9-4ad2-4337-a442-d9e5929031f3",
   "metadata": {},
   "source": [
    "Given that a rumor of size $r$ has spread to a subset $A\\subset V$ of nodes, one can consider the set of feasible sources as the solution to \n",
    "\n",
    "$$\n",
    "\\operatorname{minimal} \\Set{S\\subseteq A \\middle| \\min_{B\\subseteq V: S\\subseteq B\\not\\supseteq A} \\lambda(B,V\\setminus B) \\geq r}.\n",
    "$$"
   ]
  },
  {
   "cell_type": "markdown",
   "id": "ba1d6b60-2d67-4a83-9aa9-88514c6f2a32",
   "metadata": {},
   "source": [
    "To capture information flow in a network consisting of a discrete set $V$ of nodes, we generalize the SI model to use the following infection rate tuple:\n",
    "\n",
    "::::{prf:definition} infection rate tuple\n",
    "\n",
    "A rate tuple $\\lambda_V:=(\\lambda_u|u\\in V)$ where $\\lambda_u:2^V\\to \\mathbb{R}_+$ is normalized and monotonic iff\n",
    "\n",
    "$$\n",
    "\\begin{align}\n",
    "\\lambda_u(\\emptyset) &= 0\\\\\n",
    "\\lambda_u(B') &\\leq \\lambda_u(B) && \\forall B'\\subseteq B \\subseteq V\n",
    "\\end{align}\n",
    "$$ (infection-rate-tuple)\n",
    "\n",
    "::::"
   ]
  },
  {
   "cell_type": "markdown",
   "id": "70f08f93-3fb3-41a5-b667-d6726963b6e0",
   "metadata": {},
   "source": [
    "::::{prf:example} Information flow\n",
    "\n",
    "A possible choice of the rate tuple is \n",
    "\n",
    "$$\n",
    "\\lambda_u(B) := I(\\R{X}_B\\wedge \\R{Y}_u|\\R{X}_{V\\setminus B}),\n",
    "$$\n",
    "\n",
    "where $\\R{X}_u$ and $\\R{Y}_u$ are discrete input and output random variables of node $u\\in V$ such that $H(\\R{X}_V)=\\sum_{u\\in V} H(\\R{X}_u)$ and $H(\\R{Y}_V|\\R{X}_V)=0$.[^sub] For graphical models where $\\lambda_{uw}$ denotes the weight of the edge $(u,w)$, we can set \n",
    "\n",
    "$$\n",
    "\\lambda_u(B) := \\sum_{w\\in B} \\lambda_{uw}.\n",
    "$$\n",
    "\n",
    "::::\n",
    "\n",
    "[^sub]: Submodularity follows from the submodularity of entropy and rewriting $\\lambda_u(B)$ as $H(\\R{Y}_u|\\R{X}_{V\\setminus B})=H(\\R{Y}_u,\\R{X}_{V\\setminus B})+H(\\R{X}_B)-H(\\R{X}_V)$."
   ]
  },
  {
   "cell_type": "markdown",
   "id": "d19c8446-56e3-46f5-91eb-ffd64522e1c4",
   "metadata": {},
   "source": [
    "To define the SI model for infodemic, define the time for $u\\in V$ to be infected by $B\\subseteq V\\setminus \\Set{u}$ by the exponentially distributed random variable\n",
    "\n",
    "$$\n",
    "\\R{T}_u(B) \\sim \\text{Exp}(\\lambda_u(B))\n",
    "$$ \n",
    "\n",
    "mutually independent over $u$ and $B$. Let $\\R{U}(t)$ be the sequence of infected nodes at time $t\\geq 0$, i.e., $\\R{U}(t)=u^k$ means $u_i$ is the $i$-th first infected node by time $t$ for $i\\in [k]$. Then, the infection times determine the sequence of infected node as follows:\n",
    "\n",
    "::::{prf:definition} SI model beyond graphs\n",
    "Given $\\R{U}(\\tau)=u^{k}$, for all $t>\\tau$,\n",
    "\n",
    "$$\n",
    "\\R{U}(t)=u^{k+1}  \\iff u_{k+1} =\\arg\\min_{w\\in V\\setminus \\set(u^k)} \\R{T}_w(\\set(u^k))\n",
    "$$\n",
    "\n",
    "where the setify function \n",
    "\n",
    "$$\n",
    "\\set(u^k):=\\Set{u_i}_{i=1}^l\n",
    "$$ \n",
    "\n",
    "turns the input sequence $u^k$ into an unordered set. \n",
    "::::\n",
    "\n",
    "A unique choice of $u_{k+1}$ is possible because, almost surely, $\\R{T}_w(\\set(u^k))$'s are distinct."
   ]
  },
  {
   "cell_type": "markdown",
   "id": "6ef99188-de51-4dbf-8732-5a4f283d5875",
   "metadata": {},
   "source": [
    "The source detection problem is to find $\\set(\\R{U}(0))$ given $\\set(\\R{U}(\\R{T}^{(k)}))=S$, where\n",
    "\n",
    "$$\n",
    "\\R{T}^{(k)} = \\inf\\Set{t\\geq 0| \\abs{S(\\R{U}(t))}=k},\n",
    "$$ (eq:Tk)\n",
    "\n",
    "namely, the time to infect the first $k$ nodes."
   ]
  },
  {
   "cell_type": "markdown",
   "id": "18c26b13-91ae-4ae6-b533-4a4a9e3de410",
   "metadata": {},
   "source": [
    "A standard approach is to find the maximum likelihood estimator. We propose to the following maximum likelihood estimator:\n",
    "\n",
    "::::{prf:definition} Maximum likelihood source detection\n",
    "\n",
    "Let\n",
    "\n",
    "$$\n",
    "\\begin{align}\n",
    "L_{S,t}(W) &:= P\\left[\\set(\\R{U}(t))=S\\middle|\\set(\\R{U}(0))=W\\right],\n",
    "\\end{align}\n",
    "$$ (eq:L)\n",
    "\n",
    "be the likelihood probability of observing the set $S$ of infected node at time $t\\geq 0$ given $W$ is the set of infected nodes at time $0$. The maximum likelihood estimate of $\\set(\\R{U}(0))$ is a solution to\n",
    "\n",
    "$$\n",
    "\\begin{align}\n",
    "\\max_{W\\in \\mathcal{W}_S} E[L_{S,\\R{T}}(W)]\n",
    "\\end{align}\n",
    "$$ (eq:ML)\n",
    "\n",
    "where $S\\subseteq V$ is a given set of infected nodes observed at some independently chosen random time $\\R{T}$, and $\\mathcal{W}_S\\subseteq 2^S$ is a set of hypotheses.\n",
    "\n",
    "::::"
   ]
  },
  {
   "cell_type": "markdown",
   "id": "4944506d-a9a4-4a3a-affa-3846c315243e",
   "metadata": {},
   "source": [
    "The single-source detection problem corresponds to the case $\\mathcal{W}_S=\\Set{\\Set{s}|s\\in S}$. In this case, we will show that our proposal [](#eq:ML) can be more meaninful than the existing formulations below\n",
    "\n",
    "$$\n",
    "\\begin{align}\n",
    "\\max_{s\\in S} L_{S,\\R{T}^{(k)}}(\\Set{s})\n",
    "\\end{align}\n",
    "$$ (ML:D)\n",
    "\n",
    "$$\n",
    "\\begin{align}\n",
    "\\max_{s\\in S} \\sup_{t\\geq 0} L_{S,t}(\\Set{s})\n",
    "\\end{align}\n",
    "$$ (ML:I)\n",
    "\n",
    "where $L_{S,t}$ and $\\R{T}^{(k)}$ are defined in [](eq:L) and [](#eq:Tk) respectively."
   ]
  },
  {
   "cell_type": "markdown",
   "id": "a73962a1-6e54-457a-9b2c-5a48ff5fbf37",
   "metadata": {},
   "source": [
    "### Main results"
   ]
  },
  {
   "cell_type": "markdown",
   "id": "d73167a9-1022-485d-ad70-ebec3bae856e",
   "metadata": {},
   "source": [
    "The likelihood probability can be computed by summing the probability of all possible infection sequences:\n",
    "\n",
    "\\begin{align}\n",
    "L_{S,t}(W) &= \\sum_{u^k\\in \\Pi_{S|W}} P\\left[\\R{U}(t)=u^k|\\set(\\R{U}(0))=W\\right]\n",
    "\\end{align}\n",
    "\n",
    "where $\\Pi_{S|W}$ is the set of permitted infection sequence $u^k$ from $W$ to $S$ satisfying\n",
    "\n",
    "$$\n",
    "\\begin{align}\n",
    "u_l &\\in S\\setminus (W\\cup \\set(u^{l-1})) \\text{ and }\n",
    "\\lambda_{W\\cup \\set(u^{l-1}),u_l} > 0 && \\forall l\\in [k].\n",
    "\\end{align}\n",
    "$$"
   ]
  },
  {
   "cell_type": "markdown",
   "id": "89dd8737-a2a7-4c70-aaba-726de958a4d2",
   "metadata": {},
   "source": [
    "To compute the probability of each permitted infection sequence, define\n",
    "\n",
    "\\begin{align}\n",
    "f_{W,u^k}^{(l)}(t)&:=\n",
    "P\\left[\\R{U}(t)=u^k_{l}|\\set(\\R{U}(0))=W\\cup \\Set{u^{l-1}}\\right]\n",
    "\\end{align}"
   ]
  },
  {
   "cell_type": "markdown",
   "id": "94d46f02-7406-4b12-b21e-184c2f310164",
   "metadata": {},
   "source": [
    "$f_{W,u^k}^{(l)}(t)$ can be computed recursively due to the following recurrence formula:"
   ]
  },
  {
   "cell_type": "markdown",
   "id": "9443a1af-3df5-4b47-b016-4ec1c0f49e34",
   "metadata": {},
   "source": [
    "::::{prf:proposition}\n",
    "\n",
    "$L_{S,t}(W) = \\sum_{u^k\\in \\Pi_{S|W}} f_{W,u^k}^{(1)}(t)$ where \n",
    "\n",
    "\\begin{align}\n",
    "f_{u^k|W}^{(l)}(t) &=\n",
    "\\begin{cases}\n",
    "\\left(f_{u^k|W}^{(l+1)} * g_{u^l|W}\\right)(t) && l\\in [k]\\\\\n",
    "1 && l=k+1\n",
    "\\end{cases}\\\\\n",
    "g_{u^l|W}(t) &:= \\left.p_{\\R{T}_{B, u_l}}(t)\\prod_{u\\in (V\\setminus B)\\setminus \\Set{u_l}} P[\\R{T}_{B,u}>t]\\right|_{B=W\\cup\\set(u^{l-1})}.\n",
    "\\end{align}\n",
    "\n",
    "::::"
   ]
  },
  {
   "cell_type": "markdown",
   "id": "9a49a34c-bad9-4e38-9008-981c6ed974cc",
   "metadata": {},
   "source": [
    "::::{prf:proof}\n",
    "\n",
    "It suffices to consider $W:=\\Set{u_0}$ by contracting all nodes in $W$ into a single node $u_0$. For $u^k\\in \\Pi_{S|W}$, we have\n",
    "\n",
    "\\begin{align}\n",
    "P\\left[\\R{U}(t)=u_l^k\\middle |\\R{U}(0)=u^{l-1}_0\\right]\n",
    "&= \n",
    "\\int_{\\tau=0}^t P\\left[\\R{U}(t)=u_l^k\\middle |\\R{U}(\\tau)=u^{l}_0\\right]\\times \\\\\n",
    "&\\quad \\times P\\left[\\R{T}_{\\set(u^{l-1}_0),u}>\\tau, u\\in V\\setminus \\set(u^l_0)\\right]dP_{\\R{T}_{\\set(u^{l-1}_0),u_l}}(\\tau).\n",
    "\\end{align}\n",
    "\n",
    "::::"
   ]
  },
  {
   "cell_type": "code",
   "execution_count": null,
   "id": "d16a061a-df81-40d8-8f21-c8994eb237a3",
   "metadata": {},
   "outputs": [],
   "source": []
  }
 ],
 "metadata": {
  "kernelspec": {
   "display_name": "Python 3 (ipykernel)",
   "language": "python",
   "name": "python3"
  },
  "language_info": {
   "codemirror_mode": {
    "name": "ipython",
    "version": 3
   },
   "file_extension": ".py",
   "mimetype": "text/x-python",
   "name": "python",
   "nbconvert_exporter": "python",
   "pygments_lexer": "ipython3",
   "version": "3.11.7"
  }
 },
 "nbformat": 4,
 "nbformat_minor": 5
}
