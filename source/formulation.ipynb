{
 "cells": [
  {
   "cell_type": "markdown",
   "id": "f7de8784-b6af-43a4-a827-c30d8a0c50ef",
   "metadata": {},
   "source": [
    "## Random Spreading"
   ]
  },
  {
   "cell_type": "markdown",
   "id": "1031d41d-4580-4d84-8598-f5d2561e975e",
   "metadata": {},
   "source": [
    "### Submodular Spreading Rates"
   ]
  },
  {
   "cell_type": "markdown",
   "id": "f8e74462-9661-46b2-b44f-de3807ac518b",
   "metadata": {},
   "source": [
    "Given a discrete set $V$ of nodes, define the spreading time vector $\\R{T}$ as the collection over $B\\subseteq V$ of random vector\n",
    "\n",
    "\\begin{align}\n",
    "\\R{T}^B_{V\\setminus B}&:=(\\R{T}^B_v\\mid v\\in V\\setminus B)&& \\text{where}\\\\\n",
    "\\R{T}^B_v&\\sim \\operatorname{Exp}(\\lambda(B,v)) && \\text{for $v\\in V\\setminus B$}\n",
    "\\end{align}\n",
    "\n",
    "are random variables, called the spreading times from $B$ to $v$, exponentially distributed with rate $\\lambda(B,v)\\geq 0$, called the spreading rate. Furthermore:\n",
    "\n",
    "- The spreading times are mutually independent over $B$ and $v$, i.e., the joint cdf is\n",
    "    \\begin{align}\n",
    "    P_{\\R{T}} &= \\prod_{B\\subseteq V}\\prod_{v\\in V\\setminus B}P_{\\R{T}^B_v} && \\text{where}\\\\\n",
    "    P_{\\R{T}^B_v}(t) &=1-\\exp(-\\lambda(B,v)t) && \\text{for $t\\in \\mathbb{R}$}.\n",
    "    \\end{align}\n",
    "    (N.b., $\\lambda(B,v)=0$ effectively means $\\R{T}^B_v=\\infty$.)\n",
    "- The spreading rates are normalized, non-decreasing, and submodular in $B$ for all $v$, i.e.,\n",
    "\n",
    "    \\begin{align}\n",
    "    \\lambda^{\\emptyset}_v &= 0 && \\forall v\\in V \\tag{normalized}\\\\\n",
    "    \\lambda(B',v) &\\leq \\lambda(B,v) && \\forall v\\in V, B'\\subseteq B\\subseteq V\\setminus\\Set{v}\\tag{non-decreasing}\\\\\n",
    "    \\lambda(B'\\cup \\set{u},v) - \\lambda(B',v) &\\geq \\lambda(B\\cup \\set{u},v) - \\lambda(B,v) && \\forall u,v\\in V, B'\\subseteq B\\subseteq V\\setminus\\Set{v,u}.\\tag{submodular}\n",
    "    \\end{align}\n",
    "    \n",
    "    If the last inequality holds with equality, the rate is said to be modular, in which case,\n",
    "\n",
    "    \\begin{align}\n",
    "    \\lambda(B,v) &= \\sum_{u\\in B} \\lambda(\\Set{u}, v),\n",
    "    \\end{align}\n",
    "\n",
    "    and so the model can be summarized by a weighted loopless digraph where $\\lambda(\\Set{u}, v)$ is the weight of the edge from $u\\in V$ to $v\\in V\\setminus \\Set{u}$."
   ]
  },
  {
   "cell_type": "markdown",
   "id": "809a7b74-32a9-434d-adba-f88581192bf5",
   "metadata": {},
   "source": [
    "### Randomly Growing Tree"
   ]
  },
  {
   "cell_type": "markdown",
   "id": "583c1a2a-de83-4976-b08a-82b7767d2d74",
   "metadata": {},
   "source": [
    "Let $\\operatorname{RGT}(V, s, \\lambda)$ be a tree on $V$ rooted at $s\\in V$ and growing randomly in time $t\\geq 0$ with respect to the spreading rate $\\lambda$ (or spreading time vector $\\R{T}$): \n",
    "\n",
    "The (unordered) vertex set $\\R{U}(s, t)$ at time $t\\geq 0$ is\n",
    "\n",
    "\\begin{align}\n",
    "\\R{U}(s, t)=\\Set{s}\\cup \\Set{v\\in V\\mid (u,v)\\in \\R{A}(s, t)},\n",
    "\\end{align}\n",
    "\n",
    "where $\\R{A}(s, t)$ is the (unordered) edge set at time $t$ satisfying\n",
    "\n",
    "\\begin{gather}\n",
    "\\R{A}(s, 0)=\\emptyset\\\\\n",
    "(u,v)\\in \\R{A}(s, t+\\tau)\\setminus \\R{A}(s, t) \\iff v\\not\\in \\R{U}(s, t), \\R{T}^{\\R{U}(s, t)}_v< \\tau\n",
    "\\end{gather}\n",
    "\n",
    "for all $\\tau\\geq 0$."
   ]
  },
  {
   "cell_type": "markdown",
   "id": "cbd24398-73c5-4910-8c7e-7f61a9bddbc5",
   "metadata": {},
   "source": [
    "The last implication gives the condition for the tree to grow from $u\\in V$ to $v\\in V\\setminus \\Set{u}$ within the time interval $[t,t+\\tau]$."
   ]
  },
  {
   "cell_type": "markdown",
   "id": "51784f92-e573-4a8e-afb5-c4d59f21f7c3",
   "metadata": {},
   "source": [
    "### Random Spreading Sequence"
   ]
  },
  {
   "cell_type": "markdown",
   "id": "0c29d3f4-1620-4c55-b4c7-5716ad66738b",
   "metadata": {},
   "source": [
    "For positive integer $i\\in \\mathbb{Z}_{>0}$,\n",
    "\n",
    "\\begin{align}\n",
    "\\R{T}_i(s) &:= \\inf\\Set{t\\geq 0\\mid \\abs{\\R{A}(s,t)}\\geq i}\\\\\n",
    "\\R{U}_i(s) &:= \\lim_{\\tau \\to 0^+}\\R{U}(s,\\R{T}_i(s)+\\tau)\\\\\n",
    "\\R{A}_i(s) &:= \\lim_{\\tau \\to 0^+}\\R{A}(s,\\R{T}_i(s)+\\tau). \n",
    "\\end{align}\n",
    "\n",
    "$\\R{T}_i(s)$ is the spreading epoch right after which the random tree grows to a size $>i$."
   ]
  },
  {
   "cell_type": "markdown",
   "id": "4ce3f8ff-962c-457e-8321-36b30e3cd809",
   "metadata": {},
   "source": [
    "The spreading sequence of nodes is defined as\n",
    "\n",
    "\\begin{align}\n",
    "\\R{S}^{\\abs{V}-1}:=(\\R{S}_1, \\dots, \\R{S}_{\\abs{V}-1})\n",
    "\\end{align}\n",
    "\n",
    "such that\n",
    "\n",
    "\\begin{align}\n",
    "\\R{U}_i(s) = \\Set{s,\\R{S}_1,\\dots,\\R{S}_{\\abs{\\R{U}_i(s)}}} \n",
    "\\end{align}\n",
    "\n",
    "for all $i\\in \\mathbb{Z}_{>0}$.\n",
    "\n",
    "$\\R{S}^{\\abs{V}-1}$ is a random sequence that takes values from the set $\\mc{S}(V\\setminus \\Set{s})$ of permutations on $V\\setminus \\Set{s}$."
   ]
  },
  {
   "cell_type": "markdown",
   "id": "f53e7ad9-27c5-4c02-a03c-e5fca50ac4a2",
   "metadata": {},
   "source": [
    "The following gives the condition under which the spreading sequence to be well-defined.\n",
    "\n",
    "```{admonition} Proposition\n",
    "\n",
    "${\\R{T}}_i(s)$ is finite almost surely for $i\\in \\Set{1,\\dots,\\abs{V}}$ iff there exists a permutation $s^{\\abs{V}-1}\\in \\mc{S}(V\\setminus \\Set{s})$ such that, for all $j\\in \\Set{1,\\dots,\\abs{V}}$,  \n",
    "\n",
    "\\begin{align}\n",
    "\\lambda(\\Set{u},s_{j})>0  \\tag{connectedness}\n",
    "\\end{align}\n",
    "\n",
    "for some $u\\in \\Set{s}\\cup\\Set{ s_j\\mid j<i}$.\n",
    "\n",
    "```\n",
    "\n",
    "By continuity of ${\\R{T}}_i(s)$ (due to the continuity of $\\R{T}$), connectedness implies that almost surely,\n",
    "\n",
    "\\begin{align}\n",
    "\\abs{\\R{A}_i(s)}=i=\\abs{\\R{U}_i(s)}-1,\n",
    "\\end{align}\n",
    "\n",
    "in which case $\\R{S}^{\\abs{V}-1}$ can be determined by $\\R{U}^i(s)$'s."
   ]
  },
  {
   "cell_type": "markdown",
   "id": "21320b37-c7be-47dd-9f62-c1af2e2ba590",
   "metadata": {},
   "source": [
    "## Source Detection"
   ]
  },
  {
   "cell_type": "markdown",
   "id": "ea4b5d70-3fdc-4ffd-97af-b132d1190bea",
   "metadata": {},
   "source": [
    "Given $U\\subseteq V$ with $\\abs{U}\\geq 2$, compute\n",
    "\n",
    "\\begin{align}\n",
    "\\arg \\max_{s\\in U} \\Pr[\\exists i\\in \\mathbb{Z}_{>0},\\R{U}_i(s)=U]\n",
    "\\end{align}\n",
    "\n",
    "for $\\operatorname{RGT}(V,\\lambda)$ where $\\lambda$ satisfies the connectedness condition."
   ]
  },
  {
   "cell_type": "markdown",
   "id": "38bc6a07-b391-454c-b570-a408dd0f9345",
   "metadata": {},
   "source": [
    "### Solution by Sampling Spreading Edges"
   ]
  },
  {
   "cell_type": "markdown",
   "id": "3cfcea07-c86f-4733-b7bf-e3fc0dfa2904",
   "metadata": {},
   "source": [
    "With $k:=\\abs{U}-1$,\n",
    "\n",
    "\\begin{align}\n",
    "\\Pr[\\exists i\\in \\mathbb{Z}_{>0},\\R{U}_i(s)=U] \n",
    "&= p_{\\R{U}_k(s)}(U)\\\\\n",
    "&= E[p_{\\R{U}_k(s)|\\R{A}_k(s)}(U|\\R{A}_k(s))]\\\\\n",
    "&= E\\left[\\sum_{s^k\\in \\mc{S}(V\\setminus \\Set{s})} p_{\\R{S}^k(s)|\\R{A}_k(s)}(U|\\R{A}_k(s))\\right]\\\\\n",
    "&= E\\left[\\sum_{s^k\\in \\mc{S}^{\\R{A}_k(s)}(V\\setminus \\Set{s})} p_{\\R{S}^k(s)|\\R{A}_k(s)}(U|\\R{A}_k(s))\\right]\n",
    "\\end{align}\n",
    "\n",
    "where \n",
    "\n",
    "\\begin{align}\n",
    "\\mc{S}^{\\R{A}_k(s)}(V\\setminus \\Set{s}):=\\Set{s^k\\in \\mc{S}(V\\setminus \\Set{s})\\mid p_{\\R{S}^k(s)|\\R{A}_k(s)}>0},\n",
    "\\end{align}\n",
    "\n",
    "which is the set of permitted spreading sequence with respect to the set $\\R{A}_k(s)$ of spreading edges."
   ]
  },
  {
   "cell_type": "markdown",
   "id": "e2fa3728-b84e-4d40-9160-2ac9ffae5805",
   "metadata": {},
   "source": [
    "Let $\\R{A}^{(j)}_k(s)$ for $j\\in \\Set{1,\\dots,n}$ be i.i.d. samples of $\\R{A}_k(s)$. Then, an unbiased and consistent estimate of the above likelihood probability is\n",
    "\n",
    "\\begin{align}\n",
    "\\frac1n \\sum_{j=1}^n \\sum_{s^k\\in \\mc{S}^{\\R{A}^{(j)}_k(s)}(V\\setminus \\Set{s})} p_{\\R{S}^k(s)|\\R{A}_k(s)}(U|\\R{A}^{(j)}_k(s))\n",
    "\\end{align}"
   ]
  },
  {
   "cell_type": "markdown",
   "id": "1ae30db8-004d-421a-9ae2-b62ec6d1cde4",
   "metadata": {},
   "source": [
    "It remains to compute $p_{\\R{S}^k(s)|\\R{A}_k(s)}$ in terms of $\\lambda$."
   ]
  }
 ],
 "metadata": {
  "kernelspec": {
   "display_name": "Python 3 (ipykernel)",
   "language": "python",
   "name": "python3"
  },
  "language_info": {
   "codemirror_mode": {
    "name": "ipython",
    "version": 3
   },
   "file_extension": ".py",
   "mimetype": "text/x-python",
   "name": "python",
   "nbconvert_exporter": "python",
   "pygments_lexer": "ipython3",
   "version": "3.10.8"
  },
  "widgets": {
   "application/vnd.jupyter.widget-state+json": {
    "state": {},
    "version_major": 2,
    "version_minor": 0
   }
  }
 },
 "nbformat": 4,
 "nbformat_minor": 5
}
