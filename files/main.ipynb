{
 "cells": [
  {
   "cell_type": "markdown",
   "id": "d2adc5e3-acd6-4312-a4a0-3f377ddd2eab",
   "metadata": {},
   "source": [
    "---\n",
    "title: Infodemics\n",
    "math: \n",
    "    '\\abs': '\\left\\lvert #1 \\right\\rvert' \n",
    "    '\\norm': '\\left\\lvert #1 \\right\\rvert' \n",
    "    '\\Set': '\\left\\{ #1 \\right\\}'\n",
    "    '\\set': '\\operatorname{set}'    \n",
    "    '\\mc': '\\mathcal{#1}'\n",
    "    '\\M': '\\boldsymbol{#1}'\n",
    "    '\\R': '\\mathsf{#1}'\n",
    "    '\\RM': '\\boldsymbol{\\mathsf{#1}}'\n",
    "    '\\op': '\\operatorname{#1}'\n",
    "    '\\E': '\\op{E}'\n",
    "    '\\d': '\\mathrm{\\mathstrut d}'\n",
    "---"
   ]
  },
  {
   "cell_type": "markdown",
   "id": "f4e58d8a-cf14-4bc4-b360-a41697a6267e",
   "metadata": {},
   "source": [
    "## Problem Formulation"
   ]
  },
  {
   "cell_type": "markdown",
   "id": "ba1d6b60-2d67-4a83-9aa9-88514c6f2a32",
   "metadata": {},
   "source": [
    "To capture information flow in a network consisting of a discrete set $V$ of nodes, we generalize the SI model to use the following infection rate tuple:\n",
    "\n",
    "::::{prf:definition} submodular flow rate tuple\n",
    "\n",
    "A rate tuple $\\lambda_V:=(\\lambda_u|u\\in V)$ where $\\lambda_u:2^V\\to \\mathbb{R}_+$ is (normalized, monotonic, and) submodular iff\n",
    "\n",
    "$$\n",
    "\\begin{align}\n",
    "\\lambda_u(\\emptyset) &= 0\\\\\n",
    "\\lambda_u(B') &\\leq \\lambda_u(B) && \\forall B'\\subseteq B \\subseteq V\\\\\n",
    "\\lambda_u(B_1) + \\lambda_u(B_2) &\\leq \\lambda_u(B_1\\cap B_2) + \\lambda_u(B_1\\cup B_2)&&  \\forall B_1,B_2\\subseteq V.\n",
    "\\end{align}\n",
    "$$ (submodular-flow)\n",
    "\n",
    "::::"
   ]
  },
  {
   "cell_type": "markdown",
   "id": "70f08f93-3fb3-41a5-b667-d6726963b6e0",
   "metadata": {},
   "source": [
    "::::{prf:example} Information flow\n",
    "\n",
    "A possible choice of the submodular flow rate tuple is \n",
    "\n",
    "$$\n",
    "\\lambda_u(B) := I(\\R{X}_B\\wedge \\R{Y}_u|\\R{X}_{V\\setminus B}),\n",
    "$$\n",
    "\n",
    "where $\\R{X}_u$ and $\\R{Y}_u$ are discrete input and output random variables of node $u\\in V$ such that $H(\\R{X}_V)=\\sum_{u\\in V} H(\\R{X}_u)$ and $H(\\R{Y}_V|\\R{X}_V)=0$.[^sub] For graphical models where $\\lambda_{uw}$ denotes the weight of the edge $(u,w)$, we can set \n",
    "\n",
    "$$\n",
    "\\lambda_u(B) := \\sum_{w\\in B} \\lambda_{uw}.\n",
    "$$\n",
    "\n",
    "::::\n",
    "\n",
    "[^sub]: Submodularity follows from the submodularity of entropy and rewriting $\\lambda_u(B)$ as $H(\\R{Y}_u|\\R{X}_{V\\setminus B})=H(\\R{Y}_u,\\R{X}_{V\\setminus B})+H(\\R{X}_B)-H(\\R{X}_V)$."
   ]
  },
  {
   "cell_type": "markdown",
   "id": "d19c8446-56e3-46f5-91eb-ffd64522e1c4",
   "metadata": {},
   "source": [
    "To define the SI model for infodemic, define the time for $u\\in V$ to be infected by $B\\subseteq V\\setminus \\Set{u}$ by the exponentially distributed random variable\n",
    "\n",
    "$$\n",
    "\\R{T}_u(B) \\sim \\text{Exp}(\\lambda_u(B))\n",
    "$$ \n",
    "\n",
    "mutually independent over $u$ and $B$. Let $\\R{U}(t)$ be the sequence of infected nodes at time $t\\geq 0$, i.e., $\\R{U}(t)=u^k$ means $u_i$ is the $i$-th first infected node by time $t$ for $i\\in [k]$. Then, the infection times determine the sequence of infected node as follows:\n",
    "\n",
    "::::{prf:definition} SI model beyond graphs\n",
    "Given $\\R{U}(\\tau)=u^{k}$, for all $t>\\tau$,\n",
    "\n",
    "$$\n",
    "\\R{U}(t)=u^{k+1}  \\iff u_{k+1} =\\arg\\min_{w\\in V\\setminus \\set(u^k)} \\R{T}_w(\\set(u^k))\n",
    "$$\n",
    "\n",
    "where the setify function \n",
    "\n",
    "$$\n",
    "\\set(u^k):=\\Set{u_i}_{i=1}^l\n",
    "$$ \n",
    "\n",
    "turns the input sequence $u^k$ into an unordered set. \n",
    "::::\n",
    "\n",
    "A unique choice of $u_{k+1}$ is possible because, almost surely, $\\R{T}_w(\\set(u^k))$'s are distinct."
   ]
  },
  {
   "cell_type": "markdown",
   "id": "6ef99188-de51-4dbf-8732-5a4f283d5875",
   "metadata": {},
   "source": [
    "The source detection problem is to find $\\set(\\R{U}(0))$ given $\\set(\\R{U}(\\R{T}^{(k)}))=S$, where\n",
    "\n",
    "$$\n",
    "\\R{T}^{(k)} = \\inf\\Set{t\\geq 0| \\abs{S(\\R{U}(t))}=k},\n",
    "$$ (eq:Tk)\n",
    "\n",
    "namely, the time to infect the first $k$ nodes."
   ]
  },
  {
   "cell_type": "markdown",
   "id": "18c26b13-91ae-4ae6-b533-4a4a9e3de410",
   "metadata": {},
   "source": [
    "A standard approach is to find the maximum likelihood estimator. We propose to the following maximum likelihood estimator:\n",
    "\n",
    "::::{prf:definition} Maximum likelihood source detection\n",
    "\n",
    "Let\n",
    "\n",
    "$$\n",
    "\\begin{align}\n",
    "L_{S,t}(W) &:= P\\left[\\set(\\R{U}(t))=S\\middle|\\set(\\R{U}(0))=W\\right],\n",
    "\\end{align}\n",
    "$$ (eq:L)\n",
    "\n",
    "be the likelihood probability of observing the set $S$ of infected node at time $t\\geq 0$ given $W$ is the set of infected nodes at time $0$. The maximum likelihood estimate of $\\set(\\R{U}(0))$ is a solution to\n",
    "\n",
    "$$\n",
    "\\begin{align}\n",
    "\\max_{W\\in \\mathcal{W}_S} E[L_{S,\\R{T}}(W)]\n",
    "\\end{align}\n",
    "$$ (eq:ML)\n",
    "\n",
    "where $S\\subseteq V$ is a given set of infected nodes observed at some independently chosen random time $\\R{T}$, and $\\mathcal{W}_S\\subseteq 2^S$ is a set of hypotheses.\n",
    "\n",
    "::::"
   ]
  },
  {
   "cell_type": "markdown",
   "id": "4944506d-a9a4-4a3a-affa-3846c315243e",
   "metadata": {},
   "source": [
    "The single-source detection problem corresponds to the case $\\mathcal{W}_S=\\Set{\\Set{s}|s\\in S}$. In this case, we will show that our proposal [](#eq:ML) can be more meaninful than the existing formulations below\n",
    "\n",
    "$$\n",
    "\\begin{align}\n",
    "\\max_{s\\in S} L_{S,\\R{T}^{(k)}}(\\Set{s})\n",
    "\\end{align}\n",
    "$$ (ML:D)\n",
    "\n",
    "$$\n",
    "\\begin{align}\n",
    "\\max_{s\\in S} \\sup_{t\\geq 0} L_{S,t}(\\Set{s})\n",
    "\\end{align}\n",
    "$$ (ML:I)\n",
    "\n",
    "where $L_{S,t}$ and $\\R{T}^{(k)}$ are defined in [](eq:L) and [](#eq:Tk) respectively."
   ]
  },
  {
   "cell_type": "markdown",
   "id": "a73962a1-6e54-457a-9b2c-5a48ff5fbf37",
   "metadata": {},
   "source": [
    "### Main results"
   ]
  },
  {
   "cell_type": "markdown",
   "id": "d73167a9-1022-485d-ad70-ebec3bae856e",
   "metadata": {},
   "source": [
    "The likelihood probability can be computed by summing the probability of all possible infection sequences:\n",
    "\n",
    "\\begin{align}\n",
    "L_{S,t}(W) &= \\sum_{u^k\\in \\Pi_{S|W}} P\\left[\\R{U}(t)=u^k|\\set(\\R{U}(0))=W\\right]\n",
    "\\end{align}\n",
    "\n",
    "where $\\Pi_{S|W}$ is the set of permitted infection sequence $u^k$ from $W$ to $S$ satisfying\n",
    "\n",
    "$$\n",
    "\\begin{align}\n",
    "u_l &\\in S\\setminus (W\\cup \\set(u^{l-1})) \\text{ and }\n",
    "\\lambda_{W\\cup \\set(u^{l-1}),u_l} > 0 && \\forall l\\in [k].\n",
    "\\end{align}\n",
    "$$"
   ]
  },
  {
   "cell_type": "markdown",
   "id": "89dd8737-a2a7-4c70-aaba-726de958a4d2",
   "metadata": {},
   "source": [
    "To compute the probability of each permitted infection sequence, define\n",
    "\n",
    "\\begin{align}\n",
    "f_{W,u^k}^{(l)}(t)&:=\n",
    "P\\left[\\R{U}(t)=u^k_{l}|\\set(\\R{U}(0))=W\\cup \\Set{u^{l-1}}\\right]\n",
    "\\end{align}"
   ]
  },
  {
   "cell_type": "markdown",
   "id": "94d46f02-7406-4b12-b21e-184c2f310164",
   "metadata": {},
   "source": [
    "$f_{W,u^k}^{(l)}(t)$ can be computed recursively due to the following recurrence formula:"
   ]
  },
  {
   "cell_type": "markdown",
   "id": "9443a1af-3df5-4b47-b016-4ec1c0f49e34",
   "metadata": {},
   "source": [
    "::::{prf:proposition}\n",
    "\n",
    "$L_{S,t}(W) = \\sum_{u^k\\in \\Pi_{S|W}} f_{W,u^k}^{(1)}(t)$ where \n",
    "\n",
    "\\begin{align}\n",
    "f_{u^k|W}^{(l)}(t) &=\n",
    "\\begin{cases}\n",
    "\\left(f_{u^k|W}^{(l+1)} * g_{u^l|W}\\right)(t) && l\\in [k]\\\\\n",
    "1 && l=k+1\n",
    "\\end{cases}\\\\\n",
    "g_{u^l|W}(t) &:= \\left.p_{\\R{T}_{B, u_l}}(t)\\prod_{u\\in (V\\setminus B)\\setminus \\Set{u_l}} P[\\R{T}_{B,u}>t]\\right|_{B=W\\cup\\set(u^{l-1})}.\n",
    "\\end{align}\n",
    "\n",
    "::::"
   ]
  },
  {
   "cell_type": "markdown",
   "id": "9a49a34c-bad9-4e38-9008-981c6ed974cc",
   "metadata": {},
   "source": [
    "::::{prf:proof}\n",
    "\n",
    "It suffices to consider $W:=\\Set{u_0}$ by contracting all nodes in $W$ into a single node $u_0$. For $u^k\\in \\Pi_{S|W}$, we have\n",
    "\n",
    "\\begin{align}\n",
    "P\\left[\\R{U}(t)=u_l^k\\middle |\\R{U}(0)=u^{l-1}_0\\right]\n",
    "&= \n",
    "\\int_{\\tau=0}^t P\\left[\\R{U}(t)=u_l^k\\middle |\\R{U}(\\tau)=u^{l}_0\\right]\\times \\\\\n",
    "&\\quad \\times P\\left[\\R{T}_{\\set(u^{l-1}_0),u}>\\tau, u\\in V\\setminus \\set(u^l_0)\\right]dP_{\\R{T}_{\\set(u^{l-1}_0),u_l}}(\\tau).\n",
    "\\end{align}\n",
    "\n",
    "::::"
   ]
  },
  {
   "cell_type": "code",
   "execution_count": null,
   "id": "d16a061a-df81-40d8-8f21-c8994eb237a3",
   "metadata": {},
   "outputs": [],
   "source": []
  }
 ],
 "metadata": {
  "kernelspec": {
   "display_name": "Python 3 (ipykernel)",
   "language": "python",
   "name": "python3"
  },
  "language_info": {
   "codemirror_mode": {
    "name": "ipython",
    "version": 3
   },
   "file_extension": ".py",
   "mimetype": "text/x-python",
   "name": "python",
   "nbconvert_exporter": "python",
   "pygments_lexer": "ipython3",
   "version": "3.11.7"
  }
 },
 "nbformat": 4,
 "nbformat_minor": 5
}
